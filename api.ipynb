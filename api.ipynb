{
 "cells": [
  {
   "cell_type": "code",
   "execution_count": 1,
   "metadata": {},
   "outputs": [
    {
     "name": "stdout",
     "output_type": "stream",
     "text": [
      "{'title': 'The Basics - Networking', 'description': 'Your app fetched this from a remote endpoint!', 'movies': [{'id': '1', 'title': 'Star Wars', 'releaseYear': '1977'}, {'id': '2', 'title': 'Back to the Future', 'releaseYear': '1985'}, {'id': '3', 'title': 'The Matrix', 'releaseYear': '1999'}, {'id': '4', 'title': 'Inception', 'releaseYear': '2010'}, {'id': '5', 'title': 'Interstellar', 'releaseYear': '2014'}]}\n"
     ]
    }
   ],
   "source": [
    "import requests\n",
    "\n",
    "res = requests.get(\"https://reactnative.dev/movies.json\", )\n",
    "res = res.json()\n",
    "\n",
    "print(res)"
   ]
  }
 ],
 "metadata": {
  "kernelspec": {
   "display_name": "math",
   "language": "python",
   "name": "python3"
  },
  "language_info": {
   "codemirror_mode": {
    "name": "ipython",
    "version": 3
   },
   "file_extension": ".py",
   "mimetype": "text/x-python",
   "name": "python",
   "nbconvert_exporter": "python",
   "pygments_lexer": "ipython3",
   "version": "3.10.9"
  }
 },
 "nbformat": 4,
 "nbformat_minor": 2
}
